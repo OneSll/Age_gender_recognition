{
  "nbformat": 4,
  "nbformat_minor": 0,
  "metadata": {
    "colab": {
      "provenance": [],
      "include_colab_link": true
    },
    "kernelspec": {
      "name": "python3",
      "display_name": "Python 3"
    },
    "language_info": {
      "name": "python"
    }
  },
  "cells": [
    {
      "cell_type": "markdown",
      "metadata": {
        "id": "view-in-github",
        "colab_type": "text"
      },
      "source": [
        "<a href=\"https://colab.research.google.com/github/OneSll/Age_gender_recognition/blob/main/Bot.ipynb\" target=\"_parent\"><img src=\"https://colab.research.google.com/assets/colab-badge.svg\" alt=\"Open In Colab\"/></a>"
      ]
    },
    {
      "cell_type": "code",
      "source": [
        "!pip install pyTelegramBotAPI"
      ],
      "metadata": {
        "id": "tJGqvNHmO3Cj",
        "collapsed": true
      },
      "execution_count": null,
      "outputs": []
    },
    {
      "cell_type": "code",
      "source": [
        "from google.colab import drive\n",
        "drive.mount('/content/drive/')"
      ],
      "metadata": {
        "id": "SVIKN2C0Bcf6"
      },
      "execution_count": null,
      "outputs": []
    },
    {
      "cell_type": "code",
      "execution_count": null,
      "metadata": {
        "id": "_a147K_XAmSj"
      },
      "outputs": [],
      "source": [
        "import torch\n",
        "import numpy as np\n",
        "from torchvision import transforms\n",
        "from PIL import Image\n",
        "from io import BytesIO\n",
        "import pickle"
      ]
    },
    {
      "cell_type": "code",
      "source": [
        "import torch.nn as nn\n",
        "from torchvision import models\n",
        "\n",
        "# Определение модели ResNet-18\n",
        "class CustomResNet(nn.Module):\n",
        "    def __init__(self, num_classes):\n",
        "        super(CustomResNet, self).__init__()\n",
        "        self.resnet = models.resnet18(pretrained=True)\n",
        "\n",
        "        # Размораживаем последние три слоя\n",
        "        for param in list(self.resnet.layer4.parameters()) + \\\n",
        "                     list(self.resnet.layer3.parameters()):\n",
        "            param.requires_grad = True\n",
        "\n",
        "        # Заменяем последний полносвязный слой на новый слой с количеством выходных классов\n",
        "        num_ftrs = self.resnet.fc.in_features\n",
        "        self.resnet.fc = nn.Linear(num_ftrs, num_classes)\n",
        "\n",
        "    def forward(self, x):\n",
        "        return self.resnet(x)"
      ],
      "metadata": {
        "id": "0zMcdp_JaXSQ"
      },
      "execution_count": null,
      "outputs": []
    },
    {
      "cell_type": "code",
      "source": [
        "from sklearn.preprocessing import LabelEncoder\n",
        "\n",
        "\n",
        "labels = [\n",
        "    'Женщина средних лет с вероятностью',\n",
        "    'Ребенок мужского пола с вероятностью',\n",
        "    'Пожилой мужчина с вероятностью',\n",
        "    'Мужчина средних лет с вероятностью',\n",
        "    'Пожилая женщина с вероятностью',\n",
        "    'Ребенок женского пола с вероятностью',\n",
        "]\n",
        "label_encoder = LabelEncoder()\n",
        "label_encoder.fit(labels)\n",
        "\n",
        "def predict_one_sample(model, image_bytes,):\n",
        "    \"\"\"Predict for a single image.\"\"\"\n",
        "     # Convert image bytes to PIL Image\n",
        "    image = Image.open(BytesIO(image_bytes)).convert('RGB')\n",
        "\n",
        "    # Define transformation\n",
        "    transform = transforms.Compose([\n",
        "        transforms.Resize((224, 224)),   # Resize image to the expected size\n",
        "        transforms.ToTensor(),           # Convert image to tensor\n",
        "        transforms.Normalize(mean=[0.485, 0.456, 0.406], std=[0.229, 0.224, 0.225])  # Normalize\n",
        "    ])\n",
        "    inputs = transform(image).unsqueeze(0)\n",
        "\n",
        "    # Perform the prediction\n",
        "    with torch.no_grad():\n",
        "        model.eval()\n",
        "        logit = model(inputs).cpu()\n",
        "        probs = torch.nn.functional.softmax(logit, dim=-1).numpy()\n",
        "\n",
        "    predicted_proba = np.max(probs)*100\n",
        "    y_pred = np.argmax(probs)\n",
        "\n",
        "    predicted_label = label_encoder.classes_[y_pred]\n",
        "    predicted_label = predicted_label[:len(predicted_label)//2] + predicted_label[len(predicted_label)//2:]\n",
        "    predicted_text = \"{} : {:.0f}%\".format(predicted_label, predicted_proba)\n",
        "\n",
        "    return predicted_text\n"
      ],
      "metadata": {
        "id": "sIo-5xD4aFRo"
      },
      "execution_count": null,
      "outputs": []
    },
    {
      "cell_type": "code",
      "source": [
        "label_encoder.classes_"
      ],
      "metadata": {
        "id": "rdB0tMF7ucf1"
      },
      "execution_count": null,
      "outputs": []
    },
    {
      "cell_type": "code",
      "source": [
        "# Load the complete model\n",
        "weights = '/content/drive/MyDrive/model_weights.pth'\n",
        "\n",
        "model = CustomResNet(num_classes=6)\n",
        "model.load_state_dict(torch.load(weights, map_location=torch.device('cpu')))"
      ],
      "metadata": {
        "id": "A5IUouWvaKZi",
        "collapsed": true
      },
      "execution_count": null,
      "outputs": []
    },
    {
      "cell_type": "code",
      "source": [
        "import telebot\n",
        "\n",
        "# Initialize the Telegram bot\n",
        "bot = telebot.TeleBot(\"6265291697:AAEhkyI-muYJG9aTXYqHtyxzOAWoEEKkbOg\")\n",
        "\n",
        "@bot.message_handler(commands=['start'])\n",
        "def start_message(message):\n",
        "    welcome_text = (\n",
        "            \"Привет! Я бот для распознавания персонажей из мультипликационного сериала 'Симпсоны'. \"\n",
        "            \"Загрузите изображение персонажа, и я определю его пол и возрастную группу.\\n\\n\"\n",
        "            \"Я могу распознать следующие категории:\\n\"\n",
        "            \"1. Мужчина средних лет\\n\"\n",
        "            \"2. Ребенок мужского пола\\n\"\n",
        "            \"3. Пожилой мужчина\\n\"\n",
        "            \"4. Женщина средних лет\\n\"\n",
        "            \"5. Ребенок женского пола\\n\"\n",
        "            \"6. Пожилая женщина\\n\\n\"\n",
        "            \"Пожалуйста, загрузите изображение, чтобы начать.\"\n",
        "        )\n",
        "    bot.send_message(message.chat.id, welcome_text)\n",
        "\n",
        "@bot.message_handler(content_types=['photo'])\n",
        "def process_image(message):\n",
        "    file_id = message.photo[-1].file_id\n",
        "    file_info = bot.get_file(file_id)\n",
        "    file_path = file_info.file_path\n",
        "\n",
        "    # Download the image\n",
        "    downloaded_file = bot.download_file(file_path)\n",
        "\n",
        "    # Perform prediction\n",
        "    predictions = predict_one_sample(model, downloaded_file)\n",
        "\n",
        "    # Convert prediction results to a readable format\n",
        "    response = \"Результаты предсказания:\\n\"\n",
        "\n",
        "    bot.reply_to(message, predictions)\n",
        "\n",
        "# Start the bot\n",
        "bot.infinity_polling(none_stop=True, interval=1)\n"
      ],
      "metadata": {
        "id": "Gd-sK3guD7in"
      },
      "execution_count": null,
      "outputs": []
    }
  ]
}